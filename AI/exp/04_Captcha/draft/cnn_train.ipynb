{
 "cells": [
  {
   "cell_type": "code",
   "execution_count": 5,
   "metadata": {},
   "outputs": [
    {
     "name": "stdout",
     "output_type": "stream",
     "text": [
      "Sun Nov 18 04:50:34 2018  step: 0  accuracy: 0.11\n",
      "Sun Nov 18 04:51:55 2018  step: 100  accuracy: 0.125\n",
      "Sun Nov 18 04:53:16 2018  step: 200  accuracy: 0.0925\n",
      "Sun Nov 18 04:54:38 2018  step: 300  accuracy: 0.08\n",
      "Sun Nov 18 04:55:59 2018  step: 400  accuracy: 0.11\n",
      "Sun Nov 18 04:57:24 2018  step: 500  accuracy: 0.095\n",
      "Sun Nov 18 04:58:49 2018  step: 600  accuracy: 0.1125\n",
      "Sun Nov 18 05:00:10 2018  step: 700  accuracy: 0.115\n",
      "Sun Nov 18 05:01:32 2018  step: 800  accuracy: 0.1075\n",
      "Sun Nov 18 05:02:53 2018  step: 900  accuracy: 0.1275\n",
      "Sun Nov 18 05:04:14 2018  step: 1000  accuracy: 0.0875\n",
      "Sun Nov 18 05:05:34 2018  step: 1100  accuracy: 0.09\n",
      "Sun Nov 18 05:06:54 2018  step: 1200  accuracy: 0.115\n",
      "Sun Nov 18 05:08:14 2018  step: 1300  accuracy: 0.095\n",
      "Sun Nov 18 05:09:36 2018  step: 1400  accuracy: 0.0875\n",
      "Sun Nov 18 05:10:57 2018  step: 1500  accuracy: 0.1025\n",
      "Sun Nov 18 05:12:18 2018  step: 1600  accuracy: 0.2525\n",
      "Sun Nov 18 05:13:39 2018  step: 1700  accuracy: 0.4375\n",
      "Sun Nov 18 05:14:59 2018  step: 1800  accuracy: 0.4875\n",
      "Sun Nov 18 05:16:20 2018  step: 1900  accuracy: 0.54\n",
      "Sun Nov 18 05:17:40 2018  step: 2000  accuracy: 0.6875\n",
      "Sun Nov 18 05:19:01 2018  step: 2100  accuracy: 0.7375\n",
      "Sun Nov 18 05:20:22 2018  step: 2200  accuracy: 0.735\n",
      "Sun Nov 18 05:21:43 2018  step: 2300  accuracy: 0.8125\n",
      "Sun Nov 18 05:24:24 2018  step: 2500  accuracy: 0.8325\n",
      "Sun Nov 18 05:25:45 2018  step: 2600  accuracy: 0.82\n",
      "Sun Nov 18 05:27:05 2018  step: 2700  accuracy: 0.8675\n",
      "Sun Nov 18 05:28:26 2018  step: 2800  accuracy: 0.8925\n",
      "Sun Nov 18 05:29:48 2018  step: 2900  accuracy: 0.8675\n",
      "Sun Nov 18 05:31:09 2018  step: 3000  accuracy: 0.91\n",
      "Sun Nov 18 05:32:30 2018  step: 3100  accuracy: 0.915\n",
      "Sun Nov 18 05:33:51 2018  step: 3200  accuracy: 0.89\n",
      "Sun Nov 18 05:35:13 2018  step: 3300  accuracy: 0.885\n",
      "Sun Nov 18 05:36:35 2018  step: 3400  accuracy: 0.9225\n",
      "Sun Nov 18 05:37:57 2018  step: 3500  accuracy: 0.875\n",
      "Sun Nov 18 05:39:20 2018  step: 3600  accuracy: 0.9325\n",
      "Sun Nov 18 05:40:41 2018  step: 3700  accuracy: 0.9125\n",
      "Sun Nov 18 05:42:04 2018  step: 3800  accuracy: 0.9375\n",
      "Sun Nov 18 05:43:25 2018  step: 3900  accuracy: 0.935\n",
      "Sun Nov 18 05:44:47 2018  step: 4000  accuracy: 0.9475\n",
      "Sun Nov 18 05:46:08 2018  step: 4100  accuracy: 0.9325\n",
      "Sun Nov 18 05:47:29 2018  step: 4200  accuracy: 0.9175\n",
      "Sun Nov 18 05:48:50 2018  step: 4300  accuracy: 0.9425\n",
      "Sun Nov 18 05:50:10 2018  step: 4400  accuracy: 0.94\n",
      "Sun Nov 18 05:51:30 2018  step: 4500  accuracy: 0.95\n",
      "Sun Nov 18 05:52:51 2018  step: 4600  accuracy: 0.9375\n",
      "Sun Nov 18 05:54:12 2018  step: 4700  accuracy: 0.9475\n",
      "Sun Nov 18 05:55:32 2018  step: 4800  accuracy: 0.9375\n",
      "Sun Nov 18 05:56:53 2018  step: 4900  accuracy: 0.955\n",
      "Sun Nov 18 05:58:14 2018  step: 5000  accuracy: 0.95\n",
      "Sun Nov 18 05:59:36 2018  step: 5100  accuracy: 0.955\n",
      "Sun Nov 18 06:00:57 2018  step: 5200  accuracy: 0.925\n",
      "Sun Nov 18 06:02:19 2018  step: 5300  accuracy: 0.95\n",
      "Sun Nov 18 06:03:41 2018  step: 5400  accuracy: 0.9725\n",
      "Sun Nov 18 06:05:03 2018  step: 5500  accuracy: 0.94\n",
      "Sun Nov 18 06:06:26 2018  step: 5600  accuracy: 0.9775\n",
      "Sun Nov 18 06:07:47 2018  step: 5700  accuracy: 0.955\n",
      "Sun Nov 18 06:09:08 2018  step: 5800  accuracy: 0.9575\n",
      "Sun Nov 18 06:10:28 2018  step: 5900  accuracy: 0.9625\n",
      "Sun Nov 18 06:11:49 2018  step: 6000  accuracy: 0.965\n",
      "Sun Nov 18 06:13:10 2018  step: 6100  accuracy: 0.94\n",
      "Sun Nov 18 06:14:34 2018  step: 6200  accuracy: 0.9625\n",
      "Sun Nov 18 06:15:58 2018  step: 6300  accuracy: 0.955\n",
      "Sun Nov 18 06:17:22 2018  step: 6400  accuracy: 0.9775\n",
      "Sun Nov 18 06:18:46 2018  step: 6500  accuracy: 0.9775\n",
      "Sun Nov 18 06:20:11 2018  step: 6600  accuracy: 0.965\n",
      "Sun Nov 18 06:21:35 2018  step: 6700  accuracy: 0.97\n",
      "Sun Nov 18 06:22:59 2018  step: 6800  accuracy: 0.97\n",
      "Sun Nov 18 06:24:25 2018  step: 6900  accuracy: 0.965\n",
      "Sun Nov 18 06:25:52 2018  step: 7000  accuracy: 0.965\n",
      "Sun Nov 18 06:27:18 2018  step: 7100  accuracy: 0.985\n",
      "Sun Nov 18 06:28:44 2018  step: 7200  accuracy: 0.97\n",
      "Sun Nov 18 06:30:10 2018  step: 7300  accuracy: 0.9575\n",
      "Sun Nov 18 06:31:35 2018  step: 7400  accuracy: 0.9725\n",
      "Sun Nov 18 06:33:00 2018  step: 7500  accuracy: 0.965\n",
      "Sun Nov 18 06:34:25 2018  step: 7600  accuracy: 0.9775\n",
      "Sun Nov 18 06:35:49 2018  step: 7700  accuracy: 0.9825\n",
      "Sun Nov 18 06:37:13 2018  step: 7800  accuracy: 0.96\n",
      "Sun Nov 18 06:38:36 2018  step: 7900  accuracy: 0.99\n"
     ]
    }
   ],
   "source": [
    "import cnn_train\n",
    "\n",
    "cnn_train.train()\n"
   ]
  },
  {
   "cell_type": "code",
   "execution_count": null,
   "metadata": {},
   "outputs": [],
   "source": []
  }
 ],
 "metadata": {
  "kernelspec": {
   "display_name": "Python 3",
   "language": "python",
   "name": "python3"
  },
  "language_info": {
   "codemirror_mode": {
    "name": "ipython",
    "version": 3
   },
   "file_extension": ".py",
   "mimetype": "text/x-python",
   "name": "python",
   "nbconvert_exporter": "python",
   "pygments_lexer": "ipython3",
   "version": "3.5.2"
  }
 },
 "nbformat": 4,
 "nbformat_minor": 2
}
